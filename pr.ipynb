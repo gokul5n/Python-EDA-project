{
 "cells": [
  {
   "cell_type": "code",
   "execution_count": 3,
   "id": "b119437e",
   "metadata": {},
   "outputs": [],
   "source": [
    "import pandas as pd\n",
    "import numpy as np\n",
    "import matplotlib.pyplot as plt\n",
    "import matplotlib.ticker as ticker\n",
    "import seaborn as sns"
   ]
  },
  {
   "cell_type": "code",
   "execution_count": 7,
   "id": "daf117ed",
   "metadata": {},
   "outputs": [],
   "source": [
    "df = pd.read_csv(r\"C:\\Users\\gokul\\OneDrive\\Documents\\STD\\air bnb.csv\")"
   ]
  },
  {
   "cell_type": "code",
   "execution_count": 7,
   "id": "a88ea7a5",
   "metadata": {},
   "outputs": [
    {
     "data": {
      "text/html": [
       "<div>\n",
       "<style scoped>\n",
       "    .dataframe tbody tr th:only-of-type {\n",
       "        vertical-align: middle;\n",
       "    }\n",
       "\n",
       "    .dataframe tbody tr th {\n",
       "        vertical-align: top;\n",
       "    }\n",
       "\n",
       "    .dataframe thead th {\n",
       "        text-align: right;\n",
       "    }\n",
       "</style>\n",
       "<table border=\"1\" class=\"dataframe\">\n",
       "  <thead>\n",
       "    <tr style=\"text-align: right;\">\n",
       "      <th></th>\n",
       "      <th>id</th>\n",
       "      <th>name</th>\n",
       "      <th>host_id</th>\n",
       "      <th>host_name</th>\n",
       "      <th>neighbourhood_group</th>\n",
       "      <th>neighbourhood</th>\n",
       "      <th>latitude</th>\n",
       "      <th>longitude</th>\n",
       "      <th>room_type</th>\n",
       "      <th>price</th>\n",
       "      <th>...</th>\n",
       "      <th>last_review</th>\n",
       "      <th>reviews_per_month</th>\n",
       "      <th>calculated_host_listings_count</th>\n",
       "      <th>availability_365</th>\n",
       "      <th>number_of_reviews_ltm</th>\n",
       "      <th>license</th>\n",
       "      <th>rating</th>\n",
       "      <th>bedrooms</th>\n",
       "      <th>beds</th>\n",
       "      <th>baths</th>\n",
       "    </tr>\n",
       "  </thead>\n",
       "  <tbody>\n",
       "    <tr>\n",
       "      <th>0</th>\n",
       "      <td>1.312228e+06</td>\n",
       "      <td>Rental unit in Brooklyn · ★5.0 · 1 bedroom</td>\n",
       "      <td>7130382</td>\n",
       "      <td>Walter</td>\n",
       "      <td>Brooklyn</td>\n",
       "      <td>Clinton Hill</td>\n",
       "      <td>40.683710</td>\n",
       "      <td>-73.964610</td>\n",
       "      <td>Private room</td>\n",
       "      <td>55.0</td>\n",
       "      <td>...</td>\n",
       "      <td>20-12-2015</td>\n",
       "      <td>0.03</td>\n",
       "      <td>1.0</td>\n",
       "      <td>0.0</td>\n",
       "      <td>0.0</td>\n",
       "      <td>No License</td>\n",
       "      <td>5</td>\n",
       "      <td>1</td>\n",
       "      <td>1</td>\n",
       "      <td>Not specified</td>\n",
       "    </tr>\n",
       "    <tr>\n",
       "      <th>1</th>\n",
       "      <td>4.527754e+07</td>\n",
       "      <td>Rental unit in New York · ★4.67 · 2 bedrooms ·...</td>\n",
       "      <td>51501835</td>\n",
       "      <td>Jeniffer</td>\n",
       "      <td>Manhattan</td>\n",
       "      <td>Hell's Kitchen</td>\n",
       "      <td>40.766610</td>\n",
       "      <td>-73.988100</td>\n",
       "      <td>Entire home/apt</td>\n",
       "      <td>144.0</td>\n",
       "      <td>...</td>\n",
       "      <td>01-05-2023</td>\n",
       "      <td>0.24</td>\n",
       "      <td>139.0</td>\n",
       "      <td>364.0</td>\n",
       "      <td>2.0</td>\n",
       "      <td>No License</td>\n",
       "      <td>4.67</td>\n",
       "      <td>2</td>\n",
       "      <td>1</td>\n",
       "      <td>1</td>\n",
       "    </tr>\n",
       "    <tr>\n",
       "      <th>2</th>\n",
       "      <td>9.710000e+17</td>\n",
       "      <td>Rental unit in New York · ★4.17 · 1 bedroom · ...</td>\n",
       "      <td>528871354</td>\n",
       "      <td>Joshua</td>\n",
       "      <td>Manhattan</td>\n",
       "      <td>Chelsea</td>\n",
       "      <td>40.750764</td>\n",
       "      <td>-73.994605</td>\n",
       "      <td>Entire home/apt</td>\n",
       "      <td>187.0</td>\n",
       "      <td>...</td>\n",
       "      <td>18-12-2023</td>\n",
       "      <td>1.67</td>\n",
       "      <td>1.0</td>\n",
       "      <td>343.0</td>\n",
       "      <td>6.0</td>\n",
       "      <td>Exempt</td>\n",
       "      <td>4.17</td>\n",
       "      <td>1</td>\n",
       "      <td>2</td>\n",
       "      <td>1</td>\n",
       "    </tr>\n",
       "    <tr>\n",
       "      <th>3</th>\n",
       "      <td>3.857863e+06</td>\n",
       "      <td>Rental unit in New York · ★4.64 · 1 bedroom · ...</td>\n",
       "      <td>19902271</td>\n",
       "      <td>John And Catherine</td>\n",
       "      <td>Manhattan</td>\n",
       "      <td>Washington Heights</td>\n",
       "      <td>40.835600</td>\n",
       "      <td>-73.942500</td>\n",
       "      <td>Private room</td>\n",
       "      <td>120.0</td>\n",
       "      <td>...</td>\n",
       "      <td>17-09-2023</td>\n",
       "      <td>1.38</td>\n",
       "      <td>2.0</td>\n",
       "      <td>363.0</td>\n",
       "      <td>12.0</td>\n",
       "      <td>No License</td>\n",
       "      <td>4.64</td>\n",
       "      <td>1</td>\n",
       "      <td>1</td>\n",
       "      <td>1</td>\n",
       "    </tr>\n",
       "    <tr>\n",
       "      <th>4</th>\n",
       "      <td>4.089661e+07</td>\n",
       "      <td>Condo in New York · ★4.91 · Studio · 1 bed · 1...</td>\n",
       "      <td>61391963</td>\n",
       "      <td>Stay With Vibe</td>\n",
       "      <td>Manhattan</td>\n",
       "      <td>Murray Hill</td>\n",
       "      <td>40.751120</td>\n",
       "      <td>-73.978600</td>\n",
       "      <td>Entire home/apt</td>\n",
       "      <td>85.0</td>\n",
       "      <td>...</td>\n",
       "      <td>03-12-2023</td>\n",
       "      <td>0.24</td>\n",
       "      <td>133.0</td>\n",
       "      <td>335.0</td>\n",
       "      <td>3.0</td>\n",
       "      <td>No License</td>\n",
       "      <td>4.91</td>\n",
       "      <td>Studio</td>\n",
       "      <td>1</td>\n",
       "      <td>1</td>\n",
       "    </tr>\n",
       "  </tbody>\n",
       "</table>\n",
       "<p>5 rows × 22 columns</p>\n",
       "</div>"
      ],
      "text/plain": [
       "             id                                               name    host_id  \\\n",
       "0  1.312228e+06         Rental unit in Brooklyn · ★5.0 · 1 bedroom    7130382   \n",
       "1  4.527754e+07  Rental unit in New York · ★4.67 · 2 bedrooms ·...   51501835   \n",
       "2  9.710000e+17  Rental unit in New York · ★4.17 · 1 bedroom · ...  528871354   \n",
       "3  3.857863e+06  Rental unit in New York · ★4.64 · 1 bedroom · ...   19902271   \n",
       "4  4.089661e+07  Condo in New York · ★4.91 · Studio · 1 bed · 1...   61391963   \n",
       "\n",
       "            host_name neighbourhood_group       neighbourhood   latitude  \\\n",
       "0              Walter            Brooklyn        Clinton Hill  40.683710   \n",
       "1            Jeniffer           Manhattan      Hell's Kitchen  40.766610   \n",
       "2              Joshua           Manhattan             Chelsea  40.750764   \n",
       "3  John And Catherine           Manhattan  Washington Heights  40.835600   \n",
       "4      Stay With Vibe           Manhattan         Murray Hill  40.751120   \n",
       "\n",
       "   longitude        room_type  price  ...  last_review  reviews_per_month  \\\n",
       "0 -73.964610     Private room   55.0  ...   20-12-2015               0.03   \n",
       "1 -73.988100  Entire home/apt  144.0  ...   01-05-2023               0.24   \n",
       "2 -73.994605  Entire home/apt  187.0  ...   18-12-2023               1.67   \n",
       "3 -73.942500     Private room  120.0  ...   17-09-2023               1.38   \n",
       "4 -73.978600  Entire home/apt   85.0  ...   03-12-2023               0.24   \n",
       "\n",
       "  calculated_host_listings_count  availability_365  number_of_reviews_ltm  \\\n",
       "0                            1.0               0.0                    0.0   \n",
       "1                          139.0             364.0                    2.0   \n",
       "2                            1.0             343.0                    6.0   \n",
       "3                            2.0             363.0                   12.0   \n",
       "4                          133.0             335.0                    3.0   \n",
       "\n",
       "      license  rating bedrooms beds          baths  \n",
       "0  No License       5        1    1  Not specified  \n",
       "1  No License    4.67        2    1              1  \n",
       "2      Exempt    4.17        1    2              1  \n",
       "3  No License    4.64        1    1              1  \n",
       "4  No License    4.91   Studio    1              1  \n",
       "\n",
       "[5 rows x 22 columns]"
      ]
     },
     "execution_count": 7,
     "metadata": {},
     "output_type": "execute_result"
    }
   ],
   "source": [
    "df.head(5)"
   ]
  },
  {
   "cell_type": "code",
   "execution_count": 25,
   "id": "099321ae",
   "metadata": {},
   "outputs": [
    {
     "data": {
      "text/html": [
       "<div>\n",
       "<style scoped>\n",
       "    .dataframe tbody tr th:only-of-type {\n",
       "        vertical-align: middle;\n",
       "    }\n",
       "\n",
       "    .dataframe tbody tr th {\n",
       "        vertical-align: top;\n",
       "    }\n",
       "\n",
       "    .dataframe thead th {\n",
       "        text-align: right;\n",
       "    }\n",
       "</style>\n",
       "<table border=\"1\" class=\"dataframe\">\n",
       "  <thead>\n",
       "    <tr style=\"text-align: right;\">\n",
       "      <th></th>\n",
       "      <th>id</th>\n",
       "      <th>name</th>\n",
       "      <th>host_id</th>\n",
       "      <th>host_name</th>\n",
       "      <th>neighbourhood_group</th>\n",
       "      <th>neighbourhood</th>\n",
       "      <th>latitude</th>\n",
       "      <th>longitude</th>\n",
       "      <th>room_type</th>\n",
       "      <th>price</th>\n",
       "      <th>...</th>\n",
       "      <th>last_review</th>\n",
       "      <th>reviews_per_month</th>\n",
       "      <th>calculated_host_listings_count</th>\n",
       "      <th>availability_365</th>\n",
       "      <th>number_of_reviews_ltm</th>\n",
       "      <th>license</th>\n",
       "      <th>rating</th>\n",
       "      <th>bedrooms</th>\n",
       "      <th>beds</th>\n",
       "      <th>baths</th>\n",
       "    </tr>\n",
       "  </thead>\n",
       "  <tbody>\n",
       "    <tr>\n",
       "      <th>count</th>\n",
       "      <td>2.077000e+04</td>\n",
       "      <td>20770</td>\n",
       "      <td>2.077000e+04</td>\n",
       "      <td>20770</td>\n",
       "      <td>20770</td>\n",
       "      <td>20763</td>\n",
       "      <td>20763.000000</td>\n",
       "      <td>20763.000000</td>\n",
       "      <td>20763</td>\n",
       "      <td>20736.000000</td>\n",
       "      <td>...</td>\n",
       "      <td>20763</td>\n",
       "      <td>20763.000000</td>\n",
       "      <td>20763.000000</td>\n",
       "      <td>20763.000000</td>\n",
       "      <td>20763.000000</td>\n",
       "      <td>20770</td>\n",
       "      <td>20770</td>\n",
       "      <td>20770</td>\n",
       "      <td>20770.000000</td>\n",
       "      <td>20770</td>\n",
       "    </tr>\n",
       "    <tr>\n",
       "      <th>unique</th>\n",
       "      <td>NaN</td>\n",
       "      <td>9836</td>\n",
       "      <td>NaN</td>\n",
       "      <td>5815</td>\n",
       "      <td>5</td>\n",
       "      <td>221</td>\n",
       "      <td>NaN</td>\n",
       "      <td>NaN</td>\n",
       "      <td>4</td>\n",
       "      <td>NaN</td>\n",
       "      <td>...</td>\n",
       "      <td>1878</td>\n",
       "      <td>NaN</td>\n",
       "      <td>NaN</td>\n",
       "      <td>NaN</td>\n",
       "      <td>NaN</td>\n",
       "      <td>879</td>\n",
       "      <td>162</td>\n",
       "      <td>12</td>\n",
       "      <td>NaN</td>\n",
       "      <td>17</td>\n",
       "    </tr>\n",
       "    <tr>\n",
       "      <th>top</th>\n",
       "      <td>NaN</td>\n",
       "      <td>Rental unit in New York · 1 bedroom · 1 bed · ...</td>\n",
       "      <td>NaN</td>\n",
       "      <td>Jeniffer</td>\n",
       "      <td>Manhattan</td>\n",
       "      <td>Bedford-Stuyvesant</td>\n",
       "      <td>NaN</td>\n",
       "      <td>NaN</td>\n",
       "      <td>Entire home/apt</td>\n",
       "      <td>NaN</td>\n",
       "      <td>...</td>\n",
       "      <td>04-09-2023</td>\n",
       "      <td>NaN</td>\n",
       "      <td>NaN</td>\n",
       "      <td>NaN</td>\n",
       "      <td>NaN</td>\n",
       "      <td>No License</td>\n",
       "      <td>No rating</td>\n",
       "      <td>1</td>\n",
       "      <td>NaN</td>\n",
       "      <td>1</td>\n",
       "    </tr>\n",
       "    <tr>\n",
       "      <th>freq</th>\n",
       "      <td>NaN</td>\n",
       "      <td>409</td>\n",
       "      <td>NaN</td>\n",
       "      <td>187</td>\n",
       "      <td>8050</td>\n",
       "      <td>1583</td>\n",
       "      <td>NaN</td>\n",
       "      <td>NaN</td>\n",
       "      <td>11555</td>\n",
       "      <td>NaN</td>\n",
       "      <td>...</td>\n",
       "      <td>326</td>\n",
       "      <td>NaN</td>\n",
       "      <td>NaN</td>\n",
       "      <td>NaN</td>\n",
       "      <td>NaN</td>\n",
       "      <td>17579</td>\n",
       "      <td>3595</td>\n",
       "      <td>13445</td>\n",
       "      <td>NaN</td>\n",
       "      <td>17026</td>\n",
       "    </tr>\n",
       "    <tr>\n",
       "      <th>mean</th>\n",
       "      <td>3.033858e+17</td>\n",
       "      <td>NaN</td>\n",
       "      <td>1.749049e+08</td>\n",
       "      <td>NaN</td>\n",
       "      <td>NaN</td>\n",
       "      <td>NaN</td>\n",
       "      <td>40.726821</td>\n",
       "      <td>-73.939179</td>\n",
       "      <td>NaN</td>\n",
       "      <td>187.714940</td>\n",
       "      <td>...</td>\n",
       "      <td>NaN</td>\n",
       "      <td>1.257589</td>\n",
       "      <td>18.866686</td>\n",
       "      <td>206.067957</td>\n",
       "      <td>10.848962</td>\n",
       "      <td>NaN</td>\n",
       "      <td>NaN</td>\n",
       "      <td>NaN</td>\n",
       "      <td>1.723592</td>\n",
       "      <td>NaN</td>\n",
       "    </tr>\n",
       "    <tr>\n",
       "      <th>std</th>\n",
       "      <td>3.901221e+17</td>\n",
       "      <td>NaN</td>\n",
       "      <td>1.725657e+08</td>\n",
       "      <td>NaN</td>\n",
       "      <td>NaN</td>\n",
       "      <td>NaN</td>\n",
       "      <td>0.060293</td>\n",
       "      <td>0.061403</td>\n",
       "      <td>NaN</td>\n",
       "      <td>1023.245124</td>\n",
       "      <td>...</td>\n",
       "      <td>NaN</td>\n",
       "      <td>1.904472</td>\n",
       "      <td>70.921443</td>\n",
       "      <td>135.077259</td>\n",
       "      <td>21.354876</td>\n",
       "      <td>NaN</td>\n",
       "      <td>NaN</td>\n",
       "      <td>NaN</td>\n",
       "      <td>1.211993</td>\n",
       "      <td>NaN</td>\n",
       "    </tr>\n",
       "    <tr>\n",
       "      <th>min</th>\n",
       "      <td>2.595000e+03</td>\n",
       "      <td>NaN</td>\n",
       "      <td>1.678000e+03</td>\n",
       "      <td>NaN</td>\n",
       "      <td>NaN</td>\n",
       "      <td>NaN</td>\n",
       "      <td>40.500314</td>\n",
       "      <td>-74.249840</td>\n",
       "      <td>NaN</td>\n",
       "      <td>10.000000</td>\n",
       "      <td>...</td>\n",
       "      <td>NaN</td>\n",
       "      <td>0.010000</td>\n",
       "      <td>1.000000</td>\n",
       "      <td>0.000000</td>\n",
       "      <td>0.000000</td>\n",
       "      <td>NaN</td>\n",
       "      <td>NaN</td>\n",
       "      <td>NaN</td>\n",
       "      <td>1.000000</td>\n",
       "      <td>NaN</td>\n",
       "    </tr>\n",
       "    <tr>\n",
       "      <th>25%</th>\n",
       "      <td>2.707260e+07</td>\n",
       "      <td>NaN</td>\n",
       "      <td>2.041184e+07</td>\n",
       "      <td>NaN</td>\n",
       "      <td>NaN</td>\n",
       "      <td>NaN</td>\n",
       "      <td>40.684159</td>\n",
       "      <td>-73.980755</td>\n",
       "      <td>NaN</td>\n",
       "      <td>80.000000</td>\n",
       "      <td>...</td>\n",
       "      <td>NaN</td>\n",
       "      <td>0.210000</td>\n",
       "      <td>1.000000</td>\n",
       "      <td>87.000000</td>\n",
       "      <td>1.000000</td>\n",
       "      <td>NaN</td>\n",
       "      <td>NaN</td>\n",
       "      <td>NaN</td>\n",
       "      <td>1.000000</td>\n",
       "      <td>NaN</td>\n",
       "    </tr>\n",
       "    <tr>\n",
       "      <th>50%</th>\n",
       "      <td>4.992852e+07</td>\n",
       "      <td>NaN</td>\n",
       "      <td>1.086990e+08</td>\n",
       "      <td>NaN</td>\n",
       "      <td>NaN</td>\n",
       "      <td>NaN</td>\n",
       "      <td>40.722890</td>\n",
       "      <td>-73.949597</td>\n",
       "      <td>NaN</td>\n",
       "      <td>125.000000</td>\n",
       "      <td>...</td>\n",
       "      <td>NaN</td>\n",
       "      <td>0.650000</td>\n",
       "      <td>2.000000</td>\n",
       "      <td>215.000000</td>\n",
       "      <td>3.000000</td>\n",
       "      <td>NaN</td>\n",
       "      <td>NaN</td>\n",
       "      <td>NaN</td>\n",
       "      <td>1.000000</td>\n",
       "      <td>NaN</td>\n",
       "    </tr>\n",
       "    <tr>\n",
       "      <th>75%</th>\n",
       "      <td>7.220000e+17</td>\n",
       "      <td>NaN</td>\n",
       "      <td>3.143997e+08</td>\n",
       "      <td>NaN</td>\n",
       "      <td>NaN</td>\n",
       "      <td>NaN</td>\n",
       "      <td>40.763106</td>\n",
       "      <td>-73.917475</td>\n",
       "      <td>NaN</td>\n",
       "      <td>199.000000</td>\n",
       "      <td>...</td>\n",
       "      <td>NaN</td>\n",
       "      <td>1.800000</td>\n",
       "      <td>5.000000</td>\n",
       "      <td>353.000000</td>\n",
       "      <td>15.000000</td>\n",
       "      <td>NaN</td>\n",
       "      <td>NaN</td>\n",
       "      <td>NaN</td>\n",
       "      <td>2.000000</td>\n",
       "      <td>NaN</td>\n",
       "    </tr>\n",
       "    <tr>\n",
       "      <th>max</th>\n",
       "      <td>1.050000e+18</td>\n",
       "      <td>NaN</td>\n",
       "      <td>5.504035e+08</td>\n",
       "      <td>NaN</td>\n",
       "      <td>NaN</td>\n",
       "      <td>NaN</td>\n",
       "      <td>40.911147</td>\n",
       "      <td>-73.713650</td>\n",
       "      <td>NaN</td>\n",
       "      <td>100000.000000</td>\n",
       "      <td>...</td>\n",
       "      <td>NaN</td>\n",
       "      <td>75.490000</td>\n",
       "      <td>713.000000</td>\n",
       "      <td>365.000000</td>\n",
       "      <td>1075.000000</td>\n",
       "      <td>NaN</td>\n",
       "      <td>NaN</td>\n",
       "      <td>NaN</td>\n",
       "      <td>42.000000</td>\n",
       "      <td>NaN</td>\n",
       "    </tr>\n",
       "  </tbody>\n",
       "</table>\n",
       "<p>11 rows × 22 columns</p>\n",
       "</div>"
      ],
      "text/plain": [
       "                  id                                               name  \\\n",
       "count   2.077000e+04                                              20770   \n",
       "unique           NaN                                               9836   \n",
       "top              NaN  Rental unit in New York · 1 bedroom · 1 bed · ...   \n",
       "freq             NaN                                                409   \n",
       "mean    3.033858e+17                                                NaN   \n",
       "std     3.901221e+17                                                NaN   \n",
       "min     2.595000e+03                                                NaN   \n",
       "25%     2.707260e+07                                                NaN   \n",
       "50%     4.992852e+07                                                NaN   \n",
       "75%     7.220000e+17                                                NaN   \n",
       "max     1.050000e+18                                                NaN   \n",
       "\n",
       "             host_id host_name neighbourhood_group       neighbourhood  \\\n",
       "count   2.077000e+04     20770               20770               20763   \n",
       "unique           NaN      5815                   5                 221   \n",
       "top              NaN  Jeniffer           Manhattan  Bedford-Stuyvesant   \n",
       "freq             NaN       187                8050                1583   \n",
       "mean    1.749049e+08       NaN                 NaN                 NaN   \n",
       "std     1.725657e+08       NaN                 NaN                 NaN   \n",
       "min     1.678000e+03       NaN                 NaN                 NaN   \n",
       "25%     2.041184e+07       NaN                 NaN                 NaN   \n",
       "50%     1.086990e+08       NaN                 NaN                 NaN   \n",
       "75%     3.143997e+08       NaN                 NaN                 NaN   \n",
       "max     5.504035e+08       NaN                 NaN                 NaN   \n",
       "\n",
       "            latitude     longitude        room_type          price  ...  \\\n",
       "count   20763.000000  20763.000000            20763   20736.000000  ...   \n",
       "unique           NaN           NaN                4            NaN  ...   \n",
       "top              NaN           NaN  Entire home/apt            NaN  ...   \n",
       "freq             NaN           NaN            11555            NaN  ...   \n",
       "mean       40.726821    -73.939179              NaN     187.714940  ...   \n",
       "std         0.060293      0.061403              NaN    1023.245124  ...   \n",
       "min        40.500314    -74.249840              NaN      10.000000  ...   \n",
       "25%        40.684159    -73.980755              NaN      80.000000  ...   \n",
       "50%        40.722890    -73.949597              NaN     125.000000  ...   \n",
       "75%        40.763106    -73.917475              NaN     199.000000  ...   \n",
       "max        40.911147    -73.713650              NaN  100000.000000  ...   \n",
       "\n",
       "        last_review  reviews_per_month calculated_host_listings_count  \\\n",
       "count         20763       20763.000000                   20763.000000   \n",
       "unique         1878                NaN                            NaN   \n",
       "top      04-09-2023                NaN                            NaN   \n",
       "freq            326                NaN                            NaN   \n",
       "mean            NaN           1.257589                      18.866686   \n",
       "std             NaN           1.904472                      70.921443   \n",
       "min             NaN           0.010000                       1.000000   \n",
       "25%             NaN           0.210000                       1.000000   \n",
       "50%             NaN           0.650000                       2.000000   \n",
       "75%             NaN           1.800000                       5.000000   \n",
       "max             NaN          75.490000                     713.000000   \n",
       "\n",
       "        availability_365  number_of_reviews_ltm     license     rating  \\\n",
       "count       20763.000000           20763.000000       20770      20770   \n",
       "unique               NaN                    NaN         879        162   \n",
       "top                  NaN                    NaN  No License  No rating   \n",
       "freq                 NaN                    NaN       17579       3595   \n",
       "mean          206.067957              10.848962         NaN        NaN   \n",
       "std           135.077259              21.354876         NaN        NaN   \n",
       "min             0.000000               0.000000         NaN        NaN   \n",
       "25%            87.000000               1.000000         NaN        NaN   \n",
       "50%           215.000000               3.000000         NaN        NaN   \n",
       "75%           353.000000              15.000000         NaN        NaN   \n",
       "max           365.000000            1075.000000         NaN        NaN   \n",
       "\n",
       "       bedrooms          beds  baths  \n",
       "count     20770  20770.000000  20770  \n",
       "unique       12           NaN     17  \n",
       "top           1           NaN      1  \n",
       "freq      13445           NaN  17026  \n",
       "mean        NaN      1.723592    NaN  \n",
       "std         NaN      1.211993    NaN  \n",
       "min         NaN      1.000000    NaN  \n",
       "25%         NaN      1.000000    NaN  \n",
       "50%         NaN      1.000000    NaN  \n",
       "75%         NaN      2.000000    NaN  \n",
       "max         NaN     42.000000    NaN  \n",
       "\n",
       "[11 rows x 22 columns]"
      ]
     },
     "execution_count": 25,
     "metadata": {},
     "output_type": "execute_result"
    }
   ],
   "source": [
    "df.describe(include='all')"
   ]
  },
  {
   "cell_type": "code",
   "execution_count": 13,
   "id": "f18e1bd6",
   "metadata": {},
   "outputs": [
    {
     "name": "stdout",
     "output_type": "stream",
     "text": [
      "<class 'pandas.core.frame.DataFrame'>\n",
      "RangeIndex: 20770 entries, 0 to 20769\n",
      "Data columns (total 22 columns):\n",
      " #   Column                          Non-Null Count  Dtype  \n",
      "---  ------                          --------------  -----  \n",
      " 0   id                              20770 non-null  float64\n",
      " 1   name                            20770 non-null  object \n",
      " 2   host_id                         20770 non-null  int64  \n",
      " 3   host_name                       20770 non-null  object \n",
      " 4   neighbourhood_group             20770 non-null  object \n",
      " 5   neighbourhood                   20763 non-null  object \n",
      " 6   latitude                        20763 non-null  float64\n",
      " 7   longitude                       20763 non-null  float64\n",
      " 8   room_type                       20763 non-null  object \n",
      " 9   price                           20736 non-null  float64\n",
      " 10  minimum_nights                  20763 non-null  float64\n",
      " 11  number_of_reviews               20763 non-null  float64\n",
      " 12  last_review                     20763 non-null  object \n",
      " 13  reviews_per_month               20763 non-null  float64\n",
      " 14  calculated_host_listings_count  20763 non-null  float64\n",
      " 15  availability_365                20763 non-null  float64\n",
      " 16  number_of_reviews_ltm           20763 non-null  float64\n",
      " 17  license                         20770 non-null  object \n",
      " 18  rating                          20770 non-null  object \n",
      " 19  bedrooms                        20770 non-null  object \n",
      " 20  beds                            20770 non-null  int64  \n",
      " 21  baths                           20770 non-null  object \n",
      "dtypes: float64(10), int64(2), object(10)\n",
      "memory usage: 3.5+ MB\n"
     ]
    }
   ],
   "source": [
    "df.info()"
   ]
  },
  {
   "cell_type": "code",
   "execution_count": 61,
   "id": "e2b79828",
   "metadata": {},
   "outputs": [
    {
     "name": "stdout",
     "output_type": "stream",
     "text": [
      "neighbourhood\n",
      "Bedford-Stuyvesant            421363.0\n",
      "Midtown                       271325.0\n",
      "Hell's Kitchen                209407.0\n",
      "Williamsburg                  179422.0\n",
      "Harlem                        159945.0\n",
      "                                ...   \n",
      "Bay Terrace, Staten Island       175.0\n",
      "Little Neck                      155.0\n",
      "Richmondtown                     149.0\n",
      "Chelsea, Staten Island            70.0\n",
      "Navy Yard                         69.0\n",
      "Name: price, Length: 222, dtype: float64\n"
     ]
    }
   ],
   "source": [
    "grouped = df.groupby('neighbourhood')['price'].sum().sort_values(ascending=False)\n",
    "print(grouped)"
   ]
  },
  {
   "cell_type": "code",
   "execution_count": 50,
   "id": "e93d3213",
   "metadata": {},
   "outputs": [
    {
     "data": {
      "text/plain": [
       "id                                0\n",
       "name                              0\n",
       "host_id                           0\n",
       "host_name                         0\n",
       "neighbourhood_group               0\n",
       "neighbourhood                     0\n",
       "latitude                          0\n",
       "longitude                         0\n",
       "room_type                         0\n",
       "price                             0\n",
       "minimum_nights                    7\n",
       "number_of_reviews                 7\n",
       "last_review                       7\n",
       "reviews_per_month                 7\n",
       "calculated_host_listings_count    7\n",
       "availability_365                  7\n",
       "number_of_reviews_ltm             7\n",
       "license                           0\n",
       "rating                            0\n",
       "bedrooms                          0\n",
       "beds                              0\n",
       "baths                             0\n",
       "dtype: int64"
      ]
     },
     "execution_count": 50,
     "metadata": {},
     "output_type": "execute_result"
    }
   ],
   "source": [
    "df.isnull().sum()"
   ]
  },
  {
   "cell_type": "code",
   "execution_count": 28,
   "id": "46e9e214",
   "metadata": {},
   "outputs": [
    {
     "data": {
      "text/plain": [
       "0         55.0\n",
       "1        144.0\n",
       "2        187.0\n",
       "3        120.0\n",
       "4         85.0\n",
       "         ...  \n",
       "20765     45.0\n",
       "20766    105.0\n",
       "20767    299.0\n",
       "20768    115.0\n",
       "20769    102.0\n",
       "Name: price, Length: 20770, dtype: float64"
      ]
     },
     "execution_count": 28,
     "metadata": {},
     "output_type": "execute_result"
    }
   ],
   "source": [
    "df.price"
   ]
  },
  {
   "cell_type": "code",
   "execution_count": 45,
   "id": "2b818b66",
   "metadata": {},
   "outputs": [
    {
     "data": {
      "text/plain": [
       "np.int64(0)"
      ]
     },
     "execution_count": 45,
     "metadata": {},
     "output_type": "execute_result"
    }
   ],
   "source": [
    "df['neighbourhood'].isnull().sum()"
   ]
  },
  {
   "cell_type": "code",
   "execution_count": 39,
   "id": "5f687563",
   "metadata": {},
   "outputs": [
    {
     "data": {
      "text/plain": [
       "np.int64(0)"
      ]
     },
     "execution_count": 39,
     "metadata": {},
     "output_type": "execute_result"
    }
   ],
   "source": [
    "df['price'] = df['price'].fillna(df['price'].median())\n",
    "df['price'].isnull().sum()\n"
   ]
  },
  {
   "cell_type": "code",
   "execution_count": 44,
   "id": "51e90975",
   "metadata": {},
   "outputs": [],
   "source": [
    "df['neighbourhood']=df['neighbourhood'].fillna('Unknown')"
   ]
  },
  {
   "cell_type": "code",
   "execution_count": 49,
   "id": "87ed8857",
   "metadata": {},
   "outputs": [],
   "source": [
    "col_to_fill = ['latitude','longitude','room_type']\n",
    "df[col_to_fill] = df[col_to_fill].fillna('unknown')"
   ]
  },
  {
   "cell_type": "code",
   "execution_count": 53,
   "id": "da54b1c7",
   "metadata": {},
   "outputs": [
    {
     "name": "stderr",
     "output_type": "stream",
     "text": [
      "C:\\Users\\gokul\\AppData\\Local\\Temp\\ipykernel_20404\\1826965144.py:1: FutureWarning: The provided callable <built-in function sum> is currently using DataFrameGroupBy.sum. In a future version of pandas, the provided callable will be used directly. To keep current behavior pass the string \"sum\" instead.\n",
      "  df.pivot_table(index='neighbourhood',columns='room_type',values='price',aggfunc=sum)\n"
     ]
    },
    {
     "data": {
      "text/html": [
       "<div>\n",
       "<style scoped>\n",
       "    .dataframe tbody tr th:only-of-type {\n",
       "        vertical-align: middle;\n",
       "    }\n",
       "\n",
       "    .dataframe tbody tr th {\n",
       "        vertical-align: top;\n",
       "    }\n",
       "\n",
       "    .dataframe thead th {\n",
       "        text-align: right;\n",
       "    }\n",
       "</style>\n",
       "<table border=\"1\" class=\"dataframe\">\n",
       "  <thead>\n",
       "    <tr style=\"text-align: right;\">\n",
       "      <th>room_type</th>\n",
       "      <th>Entire home/apt</th>\n",
       "      <th>Hotel room</th>\n",
       "      <th>Private room</th>\n",
       "      <th>Shared room</th>\n",
       "      <th>unknown</th>\n",
       "    </tr>\n",
       "    <tr>\n",
       "      <th>neighbourhood</th>\n",
       "      <th></th>\n",
       "      <th></th>\n",
       "      <th></th>\n",
       "      <th></th>\n",
       "      <th></th>\n",
       "    </tr>\n",
       "  </thead>\n",
       "  <tbody>\n",
       "    <tr>\n",
       "      <th>Allerton</th>\n",
       "      <td>2519.0</td>\n",
       "      <td>NaN</td>\n",
       "      <td>1010.0</td>\n",
       "      <td>NaN</td>\n",
       "      <td>NaN</td>\n",
       "    </tr>\n",
       "    <tr>\n",
       "      <th>Arden Heights</th>\n",
       "      <td>535.0</td>\n",
       "      <td>NaN</td>\n",
       "      <td>NaN</td>\n",
       "      <td>NaN</td>\n",
       "      <td>NaN</td>\n",
       "    </tr>\n",
       "    <tr>\n",
       "      <th>Arrochar</th>\n",
       "      <td>873.0</td>\n",
       "      <td>NaN</td>\n",
       "      <td>500.0</td>\n",
       "      <td>NaN</td>\n",
       "      <td>NaN</td>\n",
       "    </tr>\n",
       "    <tr>\n",
       "      <th>Arverne</th>\n",
       "      <td>10120.0</td>\n",
       "      <td>NaN</td>\n",
       "      <td>3409.0</td>\n",
       "      <td>76.0</td>\n",
       "      <td>NaN</td>\n",
       "    </tr>\n",
       "    <tr>\n",
       "      <th>Astoria</th>\n",
       "      <td>20880.0</td>\n",
       "      <td>NaN</td>\n",
       "      <td>19122.0</td>\n",
       "      <td>576.0</td>\n",
       "      <td>NaN</td>\n",
       "    </tr>\n",
       "    <tr>\n",
       "      <th>...</th>\n",
       "      <td>...</td>\n",
       "      <td>...</td>\n",
       "      <td>...</td>\n",
       "      <td>...</td>\n",
       "      <td>...</td>\n",
       "    </tr>\n",
       "    <tr>\n",
       "      <th>Windsor Terrace</th>\n",
       "      <td>5848.0</td>\n",
       "      <td>NaN</td>\n",
       "      <td>3319.0</td>\n",
       "      <td>NaN</td>\n",
       "      <td>NaN</td>\n",
       "    </tr>\n",
       "    <tr>\n",
       "      <th>Woodhaven</th>\n",
       "      <td>2263.0</td>\n",
       "      <td>NaN</td>\n",
       "      <td>4133.0</td>\n",
       "      <td>39.0</td>\n",
       "      <td>NaN</td>\n",
       "    </tr>\n",
       "    <tr>\n",
       "      <th>Woodlawn</th>\n",
       "      <td>1013.0</td>\n",
       "      <td>NaN</td>\n",
       "      <td>55.0</td>\n",
       "      <td>NaN</td>\n",
       "      <td>NaN</td>\n",
       "    </tr>\n",
       "    <tr>\n",
       "      <th>Woodrow</th>\n",
       "      <td>444.0</td>\n",
       "      <td>NaN</td>\n",
       "      <td>130.0</td>\n",
       "      <td>NaN</td>\n",
       "      <td>NaN</td>\n",
       "    </tr>\n",
       "    <tr>\n",
       "      <th>Woodside</th>\n",
       "      <td>5698.0</td>\n",
       "      <td>NaN</td>\n",
       "      <td>7529.0</td>\n",
       "      <td>223.0</td>\n",
       "      <td>NaN</td>\n",
       "    </tr>\n",
       "  </tbody>\n",
       "</table>\n",
       "<p>222 rows × 5 columns</p>\n",
       "</div>"
      ],
      "text/plain": [
       "room_type        Entire home/apt  Hotel room  Private room  Shared room  \\\n",
       "neighbourhood                                                             \n",
       "Allerton                  2519.0         NaN        1010.0          NaN   \n",
       "Arden Heights              535.0         NaN           NaN          NaN   \n",
       "Arrochar                   873.0         NaN         500.0          NaN   \n",
       "Arverne                  10120.0         NaN        3409.0         76.0   \n",
       "Astoria                  20880.0         NaN       19122.0        576.0   \n",
       "...                          ...         ...           ...          ...   \n",
       "Windsor Terrace           5848.0         NaN        3319.0          NaN   \n",
       "Woodhaven                 2263.0         NaN        4133.0         39.0   \n",
       "Woodlawn                  1013.0         NaN          55.0          NaN   \n",
       "Woodrow                    444.0         NaN         130.0          NaN   \n",
       "Woodside                  5698.0         NaN        7529.0        223.0   \n",
       "\n",
       "room_type        unknown  \n",
       "neighbourhood             \n",
       "Allerton             NaN  \n",
       "Arden Heights        NaN  \n",
       "Arrochar             NaN  \n",
       "Arverne              NaN  \n",
       "Astoria              NaN  \n",
       "...                  ...  \n",
       "Windsor Terrace      NaN  \n",
       "Woodhaven            NaN  \n",
       "Woodlawn             NaN  \n",
       "Woodrow              NaN  \n",
       "Woodside             NaN  \n",
       "\n",
       "[222 rows x 5 columns]"
      ]
     },
     "execution_count": 53,
     "metadata": {},
     "output_type": "execute_result"
    }
   ],
   "source": [
    "df.pivot_table(index='neighbourhood',columns='room_type',values='price',aggfunc=sum)"
   ]
  },
  {
   "cell_type": "code",
   "execution_count": 93,
   "id": "c6c96daa",
   "metadata": {},
   "outputs": [
    {
     "name": "stdout",
     "output_type": "stream",
     "text": [
      "neighbourhood\n",
      "Bedford-Stuyvesant            421363.0\n",
      "Midtown                       271325.0\n",
      "Hell's Kitchen                209407.0\n",
      "Williamsburg                  179422.0\n",
      "Harlem                        159945.0\n",
      "                                ...   \n",
      "Bay Terrace, Staten Island       175.0\n",
      "Little Neck                      155.0\n",
      "Richmondtown                     149.0\n",
      "Chelsea, Staten Island            70.0\n",
      "Navy Yard                         69.0\n",
      "Name: price, Length: 222, dtype: float64\n"
     ]
    }
   ],
   "source": [
    "revenue_by_nei=df.groupby('neighbourhood')['price'].sum().sort_values(ascending=False)\n",
    "print(revenue_by_nei)"
   ]
  },
  {
   "cell_type": "code",
   "execution_count": 94,
   "id": "abc5e0ac",
   "metadata": {},
   "outputs": [
    {
     "name": "stdout",
     "output_type": "stream",
     "text": [
      "neighbourhood\n",
      "Bedford-Stuyvesant    421363.0\n",
      "Midtown               271325.0\n",
      "Hell's Kitchen        209407.0\n",
      "Williamsburg          179422.0\n",
      "Harlem                159945.0\n",
      "Upper West Side       152265.0\n",
      "Upper East Side       142156.0\n",
      "Crown Heights         111535.0\n",
      "East Village          100751.0\n",
      "Chelsea               100183.0\n",
      "Name: price, dtype: float64\n"
     ]
    }
   ],
   "source": [
    "top10 = revenue_by_nei.head(10)\n",
    "print(top10)"
   ]
  },
  {
   "cell_type": "code",
   "execution_count": 97,
   "id": "4fa9cd08",
   "metadata": {},
   "outputs": [
    {
     "data": {
      "image/png": "[encoded data removed]",
      "text/plain": [
       "<Figure size 600x400 with 1 Axes>"
      ]
     },
     "metadata": {},
     "output_type": "display_data"
    }
   ],
   "source": [
    "plt.figure(figsize=(6,4))\n",
    "top10.plot(kind='bar',color='skyblue')\n",
    "plt.title('Top 10 Neighbourhoood by Total revenue')\n",
    "plt.xlabel('neighbourhood')\n",
    "plt.ylabel('Price')\n",
    "plt.xticks(rotation=45)\n",
    "plt.tight_layout()\n",
    "plt.show()"
   ]
  },
  {
   "cell_type": "code",
   "execution_count": 74,
   "id": "2df73d1a",
   "metadata": {},
   "outputs": [
    {
     "name": "stdout",
     "output_type": "stream",
     "text": [
      "room_type\n",
      "Entire home/apt    2575005.0\n",
      "Private room       1228497.0\n",
      "Hotel room           46486.0\n",
      "Shared room          45844.0\n",
      "unknown                875.0\n",
      "Name: price, dtype: float64\n"
     ]
    }
   ],
   "source": [
    "by =df.groupby('room_type')['price'].sum().sort_values(ascending=False)\n",
    "print(by)"
   ]
  },
  {
   "cell_type": "code",
   "execution_count": 98,
   "id": "6f9cd67b",
   "metadata": {},
   "outputs": [
    {
     "data": {
      "text/plain": [
       "<function matplotlib.pyplot.show(close=None, block=None)>"
      ]
     },
     "execution_count": 98,
     "metadata": {},
     "output_type": "execute_result"
    },
    {
     "data": {
      "image/png": "[encoded data removed]",
      "text/plain": [
       "<Figure size 600x400 with 1 Axes>"
      ]
     },
     "metadata": {},
     "output_type": "display_data"
    }
   ],
   "source": [
    "plt.figure(figsize=(6,4))\n",
    "by.plot(kind='barh',color='yellow')\n",
    "plt.title('Revemue by room Type')\n",
    "plt.xlabel('room_type')\n",
    "plt.ylabel('Total_price')\n",
    "plt.xticks(rotation=45)\n",
    "plt.gca().xaxis.set_major_formatter(ticker.StrMethodFormatter('{x:,.0f}'))\n",
    "plt.tight_layout()\n",
    "plt.show"
   ]
  },
  {
   "cell_type": "code",
   "execution_count": 91,
   "id": "3b9c15ed",
   "metadata": {},
   "outputs": [
    {
     "data": {
      "text/plain": [
       "<function matplotlib.pyplot.show(close=None, block=None)>"
      ]
     },
     "execution_count": 91,
     "metadata": {},
     "output_type": "execute_result"
    },
    {
     "data": {
      "image/png": "[encoded data removed]",
      "text/plain": [
       "<Figure size 640x480 with 1 Axes>"
      ]
     },
     "metadata": {},
     "output_type": "display_data"
    }
   ],
   "source": [
    "sns.scatterplot(x='minimum_nights',y='price',data=df)\n",
    "plt.title('price vs minimum_nights')\n",
    "plt.show"
   ]
  },
  {
   "cell_type": "code",
   "execution_count": 92,
   "id": "66b50a43",
   "metadata": {},
   "outputs": [
    {
     "data": {
      "text/plain": [
       "0    30.0\n",
       "1    30.0\n",
       "2     2.0\n",
       "3    30.0\n",
       "4    30.0\n",
       "5    30.0\n",
       "6    30.0\n",
       "7     2.0\n",
       "8    30.0\n",
       "9    30.0\n",
       "Name: minimum_nights, dtype: float64"
      ]
     },
     "execution_count": 92,
     "metadata": {},
     "output_type": "execute_result"
    }
   ],
   "source": [
    "df['minimum_nights'].head(10)"
   ]
  },
  {
   "cell_type": "code",
   "execution_count": 100,
   "id": "446f04fd",
   "metadata": {},
   "outputs": [
    {
     "data": {
      "text/plain": [
       "0        False\n",
       "1        False\n",
       "2        False\n",
       "3        False\n",
       "4        False\n",
       "         ...  \n",
       "20765    False\n",
       "20766    False\n",
       "20767    False\n",
       "20768    False\n",
       "20769    False\n",
       "Length: 20770, dtype: bool"
      ]
     },
     "execution_count": 100,
     "metadata": {},
     "output_type": "execute_result"
    }
   ],
   "source": [
    "df.duplicated()"
   ]
  },
  {
   "cell_type": "code",
   "execution_count": 9,
   "id": "0e01ee55",
   "metadata": {},
   "outputs": [
    {
     "data": {
      "image/png": "[encoded data removed]",
      "text/plain": [
       "<Figure size 640x480 with 1 Axes>"
      ]
     },
     "metadata": {},
     "output_type": "display_data"
    }
   ],
   "source": [
    "df.sort_values(by='price',ascending=False).head(10).plot(kind='scatter',x='price',y='room_type')\n",
    "plt.show()"
   ]
  },
  {
   "cell_type": "code",
   "execution_count": 31,
   "id": "dba11ca5",
   "metadata": {},
   "outputs": [],
   "source": [
    "df['rating'] =pd.to_numeric(df['rating'],errors='coerce')\n"
   ]
  },
  {
   "cell_type": "code",
   "execution_count": 32,
   "id": "6d4eb4b4",
   "metadata": {},
   "outputs": [
    {
     "data": {
      "text/plain": [
       "0        5.00\n",
       "1        4.67\n",
       "2        4.17\n",
       "3        4.64\n",
       "4        4.91\n",
       "         ... \n",
       "20765    4.75\n",
       "20766    4.46\n",
       "20767    4.93\n",
       "20768    5.00\n",
       "20769    4.89\n",
       "Name: rating, Length: 20770, dtype: float64"
      ]
     },
     "execution_count": 32,
     "metadata": {},
     "output_type": "execute_result"
    }
   ],
   "source": [
    "df['rating']"
   ]
  },
  {
   "cell_type": "code",
   "execution_count": 36,
   "id": "26116248",
   "metadata": {},
   "outputs": [
    {
     "data": {
      "image/png": "[encoded data removed]",
      "text/plain": [
       "<Figure size 640x480 with 1 Axes>"
      ]
     },
     "metadata": {},
     "output_type": "display_data"
    }
   ],
   "source": [
    "df.sort_values(by='price',ascending=False).head(5).plot(kind='bar',x='neighbourhood',y='rating')\n",
    "plt.show()"
   ]
  },
  {
   "cell_type": "code",
   "execution_count": 47,
   "id": "97b6568f",
   "metadata": {},
   "outputs": [
    {
     "data": {
      "text/html": [
       "<div>\n",
       "<style scoped>\n",
       "    .dataframe tbody tr th:only-of-type {\n",
       "        vertical-align: middle;\n",
       "    }\n",
       "\n",
       "    .dataframe tbody tr th {\n",
       "        vertical-align: top;\n",
       "    }\n",
       "\n",
       "    .dataframe thead th {\n",
       "        text-align: right;\n",
       "    }\n",
       "</style>\n",
       "<table border=\"1\" class=\"dataframe\">\n",
       "  <thead>\n",
       "    <tr style=\"text-align: right;\">\n",
       "      <th></th>\n",
       "      <th>neighbourhood</th>\n",
       "      <th>neighbourhood_group</th>\n",
       "      <th>bedrooms</th>\n",
       "    </tr>\n",
       "  </thead>\n",
       "  <tbody>\n",
       "    <tr>\n",
       "      <th>0</th>\n",
       "      <td>Clinton Hill</td>\n",
       "      <td>Brooklyn</td>\n",
       "      <td>1</td>\n",
       "    </tr>\n",
       "    <tr>\n",
       "      <th>1</th>\n",
       "      <td>Hell's Kitchen</td>\n",
       "      <td>Manhattan</td>\n",
       "      <td>2</td>\n",
       "    </tr>\n",
       "    <tr>\n",
       "      <th>2</th>\n",
       "      <td>Chelsea</td>\n",
       "      <td>Manhattan</td>\n",
       "      <td>1</td>\n",
       "    </tr>\n",
       "    <tr>\n",
       "      <th>3</th>\n",
       "      <td>Washington Heights</td>\n",
       "      <td>Manhattan</td>\n",
       "      <td>1</td>\n",
       "    </tr>\n",
       "    <tr>\n",
       "      <th>4</th>\n",
       "      <td>Murray Hill</td>\n",
       "      <td>Manhattan</td>\n",
       "      <td>Studio</td>\n",
       "    </tr>\n",
       "  </tbody>\n",
       "</table>\n",
       "</div>"
      ],
      "text/plain": [
       "        neighbourhood neighbourhood_group bedrooms\n",
       "0        Clinton Hill            Brooklyn        1\n",
       "1      Hell's Kitchen           Manhattan        2\n",
       "2             Chelsea           Manhattan        1\n",
       "3  Washington Heights           Manhattan        1\n",
       "4         Murray Hill           Manhattan   Studio"
      ]
     },
     "execution_count": 47,
     "metadata": {},
     "output_type": "execute_result"
    }
   ],
   "source": [
    "df[['neighbourhood','neighbourhood_group','bedrooms']].head(5)"
   ]
  },
  {
   "cell_type": "code",
   "execution_count": 44,
   "id": "e4d8418f",
   "metadata": {},
   "outputs": [
    {
     "data": {
      "text/plain": [
       "array(['1', '2', 'Studio', '3', '6', '5', '4', '7', '15', '9', '8', '14'],\n",
       "      dtype=object)"
      ]
     },
     "execution_count": 44,
     "metadata": {},
     "output_type": "execute_result"
    }
   ],
   "source": [
    "df.bedrooms.unique()"
   ]
  },
  {
   "cell_type": "code",
   "execution_count": 48,
   "id": "b449bfe6",
   "metadata": {},
   "outputs": [],
   "source": [
    "df.to_csv('cleaned_data.csv',index=False)"
   ]
  },
  {
   "cell_type": "code",
   "execution_count": null,
   "id": "7f058503",
   "metadata": {},
   "outputs": [],
   "source": []
  },
  {
   "cell_type": "code",
   "execution_count": null,
   "id": "36ff8f2e",
   "metadata": {},
   "outputs": [],
   "source": []
  },
  {
   "cell_type": "code",
   "execution_count": null,
   "id": "3104bf37",
   "metadata": {},
   "outputs": [],
   "source": []
  },
  {
   "cell_type": "code",
   "execution_count": null,
   "id": "b0af4c8b",
   "metadata": {},
   "outputs": [],
   "source": []
  },
  {
   "cell_type": "code",
   "execution_count": null,
   "id": "e9719648",
   "metadata": {},
   "outputs": [],
   "source": []
  }
 ],
 "metadata": {
  "kernelspec": {
   "display_name": "Python 3",
   "language": "python",
   "name": "python3"
  },
  "language_info": {
   "codemirror_mode": {
    "name": "ipython",
    "version": 3
   },
   "file_extension": ".py",
   "mimetype": "text/x-python",
   "name": "python",
   "nbconvert_exporter": "python",
   "pygments_lexer": "ipython3",
   "version": "3.13.2"
  }
 },
 "nbformat": 4,
 "nbformat_minor": 5
}
